{
 "cells": [
  {
   "cell_type": "markdown",
   "id": "5ffb93ae",
   "metadata": {},
   "source": [
    "# Q1: Import numpy library"
   ]
  },
  {
   "cell_type": "code",
   "execution_count": 2,
   "id": "936d4703",
   "metadata": {},
   "outputs": [],
   "source": [
    "import numpy as np"
   ]
  },
  {
   "cell_type": "markdown",
   "id": "b6991a89",
   "metadata": {},
   "source": [
    "# Q2: Generate a sequence of 15 floats using linspace() function"
   ]
  },
  {
   "cell_type": "code",
   "execution_count": 11,
   "id": "43bf04a5",
   "metadata": {},
   "outputs": [
    {
     "name": "stdout",
     "output_type": "stream",
     "text": [
      "[0.         0.07142857 0.14285714 0.21428571 0.28571429 0.35714286\n",
      " 0.42857143 0.5        0.57142857 0.64285714 0.71428571 0.78571429\n",
      " 0.85714286 0.92857143 1.        ]\n"
     ]
    }
   ],
   "source": [
    "# here we generate sequence of 15 floats.\n",
    "# to set the start we use \"start\" parameter, here we start at 1\n",
    "# to set the last number we use \"stop\" parameter, here we end at 15\n",
    "# to set the number of elements to generate we use \"num\" parameter, here have 15\n",
    "seq= np.linspace(start=0,stop=1, num=15)\n",
    "print(seq)"
   ]
  },
  {
   "cell_type": "markdown",
   "id": "7144bba8",
   "metadata": {},
   "source": [
    "# Q3: Create a 3-D array in shape (2, 2, 3) containing the four arrays given below \n",
    "Note : the array's name is up to you.\n",
    "\n",
    "|      |       |          |         |\n",
    "|------| ----- | -------- | ------- |\n",
    "|arr1 | 1.1    | 2.1       | 3.1        |\n",
    "|arr2 | 4.1    | 5.1       | 6.1        |\n",
    "|arr3 | 7.1    | 8.1       | 9.1        |\n",
    "|arr4 | 10.1   | 11.1      | 12.1       |"
   ]
  },
  {
   "cell_type": "code",
   "execution_count": 72,
   "id": "c1c3f9dc",
   "metadata": {},
   "outputs": [
    {
     "name": "stdout",
     "output_type": "stream",
     "text": [
      "our 3d-array (matrix): \n",
      "[[ 1.1  2.1  3.1]\n",
      " [ 4.1  5.1  6.1]\n",
      " [ 7.1  8.1  9.1]\n",
      " [10.1 11.1 12.1]]\n",
      "\n",
      " shape: (4, 3)\n",
      "\n",
      "\n",
      "our 3d-array (matrix): \n",
      "[[[ 1.1  2.1  3.1]\n",
      "  [ 4.1  5.1  6.1]]\n",
      "\n",
      " [[ 7.1  8.1  9.1]\n",
      "  [10.1 11.1 12.1]]]\n",
      "\n",
      " shape: (2, 2, 3)\n"
     ]
    }
   ],
   "source": [
    "# step-1: create the array's\n",
    "a1 = np.array([1.1, 2.1, 3.1])\n",
    "a2 = np.array([4.1, 5.1, 6.1])\n",
    "a3 = np.array([7.1, 8.1, 9.1])\n",
    "a4 = np.array([10.1, 11.1, 12.1])\n",
    "\n",
    "# step-2: now we need to merge the arrays to reshape them this can be achived by different ways, here i will use vstack\n",
    "arr3d = np.vstack([a1,a2,a3,a4]) # now we have a (4,3) array\n",
    "print(f\"our 3d-array (matrix): \\n{arr3d}\\n\\n shape: {arr3d.shape}\")\n",
    "\n",
    "# step-3: now we want to reshape it to fit our shape (2,2,3), to do this we can use np.reshape()\n",
    "arr3d = arr3d.reshape((2,2,3))\n",
    "print(f\"\\n\\nour 3d-array (matrix): \\n{arr3d}\\n\\n shape: {arr3d.shape}\")"
   ]
  },
  {
   "cell_type": "markdown",
   "id": "807acbf6",
   "metadata": {},
   "source": [
    "# Q4: Print the following:\n",
    "Note: use the same array from Q3.\n",
    "- Array's type.\n",
    "- Array's elements datatype.\n",
    "- Array's shape.\n",
    "- Array's size.\n",
    "- Array's dimention."
   ]
  },
  {
   "cell_type": "code",
   "execution_count": 77,
   "id": "6e90d6a0",
   "metadata": {},
   "outputs": [
    {
     "name": "stdout",
     "output_type": "stream",
     "text": [
      "our 3d-array (array of matrices): \n",
      "[[[ 1.1  2.1  3.1]\n",
      "  [ 4.1  5.1  6.1]]\n",
      "\n",
      " [[ 7.1  8.1  9.1]\n",
      "  [10.1 11.1 12.1]]]\n",
      "\n",
      "Array's type: <class 'numpy.ndarray'>\n",
      "Array's elements datatype: float64\n",
      "Array's shape: (2, 2, 3)\n",
      "Array's size: 12\n",
      "Array's dimention: 3\n"
     ]
    }
   ],
   "source": [
    "# here we will print the details of our 3d-array\n",
    "print(f\"our 3d-array (array of matrices): \\n{arr3d}\")\n",
    "print(\"\")\n",
    "print(f\"Array's type: {type(arr3d)}\")\n",
    "print(f\"Array's elements datatype: {arr3d.dtype}\")\n",
    "print(f\"Array's shape: {arr3d.shape}\")\n",
    "print(f\"Array's size: {arr3d.size}\")\n",
    "print(f\"Array's dimention: {arr3d.ndim}\")"
   ]
  },
  {
   "cell_type": "markdown",
   "id": "db4958b5",
   "metadata": {},
   "source": [
    "# Q5:  Change the array dimention from 3-D to 4-D\n",
    "Note: use the same array from Q3.\n",
    "- Create a new array to hold the changes. \n",
    "- Print the new array's dimention and shape."
   ]
  },
  {
   "cell_type": "code",
   "execution_count": 78,
   "id": "e9f5c88c",
   "metadata": {},
   "outputs": [
    {
     "name": "stdout",
     "output_type": "stream",
     "text": [
      "our 3d-array (array of matrices): \n",
      "[[[ 1.1  2.1  3.1]\n",
      "  [ 4.1  5.1  6.1]]\n",
      "\n",
      " [[ 7.1  8.1  9.1]\n",
      "  [10.1 11.1 12.1]]]\n",
      "\n",
      " number of dimensions: 3\n",
      " shape: (2, 2, 3)\n",
      "\n",
      "\n",
      "our 4d-array (matrix of matrices): \n",
      "[[[[ 1.1  2.1  3.1]]\n",
      "\n",
      "  [[ 4.1  5.1  6.1]]]\n",
      "\n",
      "\n",
      " [[[ 7.1  8.1  9.1]]\n",
      "\n",
      "  [[10.1 11.1 12.1]]]]\n",
      "\n",
      " number of dimensions: 4\n",
      " shape: (2, 2, 1, 3)\n"
     ]
    }
   ],
   "source": [
    "# this is our old 3d-array we want to reshape it to be a 4d array\n",
    "print(f\"our 3d-array (array of matrices): \\n{arr3d}\\n\\n number of dimensions: {arr3d.ndim}\\n shape: {arr3d.shape}\")\n",
    "\n",
    "'''\n",
    "To solve this question we need to consider the 4d-array as a matrix of matrices, where each element is a 3-D array.\n",
    "The shape of the 4d-array should be such that multiplying its dimensions gives the total number of elements.\n",
    "Example, with 4 arrays of 3 elements each (totaling 12 elements), \n",
    "possible shapes are:\n",
    "    [\n",
    "        (1, 1, 2, 6),\n",
    "        (1, 2, 2, 3), \n",
    "        (2, 1, 1, 6),\n",
    "        (2, 2, 1, 3)\n",
    "    ]\n",
    "'''\n",
    "# here i went with 2,2,1,3\n",
    "arr4d = arr3d.reshape((2,2,1,3))\n",
    "print(f\"\\n\\nour 4d-array (matrix of matrices): \\n{arr4d}\\n\\n number of dimensions: {arr4d.ndim}\\n shape: {arr4d.shape}\")"
   ]
  },
  {
   "cell_type": "markdown",
   "id": "454f2504",
   "metadata": {},
   "source": [
    "# Q6: Change the array's elements datatype to integer  \n",
    "Note: use the same array from Q5.\n",
    "\n",
    "- Create a new array to hold the changes. \n",
    "- Print the new array."
   ]
  },
  {
   "cell_type": "code",
   "execution_count": 86,
   "id": "8135b045",
   "metadata": {},
   "outputs": [
    {
     "name": "stdout",
     "output_type": "stream",
     "text": [
      "\n",
      "\n",
      "our 4d-array (matrix of matrices): \n",
      "[[[[ 1  2  3]]\n",
      "\n",
      "  [[ 4  5  6]]]\n",
      "\n",
      "\n",
      " [[[ 7  8  9]]\n",
      "\n",
      "  [[10 11 12]]]]\n",
      "\n",
      " number of dimensions: 4\n",
      " dtype: int32\n"
     ]
    }
   ],
   "source": [
    "# this can be solved by may ways but here i will use astype()\n",
    "arr4dInt =arr4d.astype(int)\n",
    "\n",
    "print(f\"\\n\\nour 4d-array (matrix of matrices): \\n{arr4dInt}\\n\\n number of dimensions: {arr4dInt.ndim}\\n dtype: {arr4dInt.dtype}\")"
   ]
  },
  {
   "cell_type": "markdown",
   "id": "ab90badc",
   "metadata": {},
   "source": [
    "# Q7: Print all array's elements using for loop\n",
    "Note: use the same array from Q6.\n",
    "\n",
    "Hint: use nditer()"
   ]
  },
  {
   "cell_type": "code",
   "execution_count": 95,
   "id": "a0d58d15",
   "metadata": {},
   "outputs": [
    {
     "name": "stdout",
     "output_type": "stream",
     "text": [
      "The output of np.nditer(arr4dInt): [array(1), array(2), array(3), array(4), array(5), array(6), array(7), array(8), array(9), array(10), array(11), array(12)]\n",
      "\n",
      "Loop Result:\n",
      "1\n",
      "2\n",
      "3\n",
      "4\n",
      "5\n",
      "6\n",
      "7\n",
      "8\n",
      "9\n",
      "10\n",
      "11\n",
      "12\n"
     ]
    }
   ],
   "source": [
    "# np.nditer(arr4dInt) will return iterable object, this object can be used traverse the elements of our arr4dInt\n",
    "print(f\"The output of np.nditer(arr4dInt): {list(np.nditer(arr4dInt))}\\n\")\n",
    "\n",
    "print(\"Loop Result:\")\n",
    "# this is how to traverse the elements of an array no matter its dimensions\n",
    "for element in np.nditer(arr4dInt):\n",
    "    print(element)"
   ]
  },
  {
   "cell_type": "markdown",
   "id": "afa8b5f3",
   "metadata": {},
   "source": [
    "# Q8:  Print number 8 using array slicing\n",
    "Note: use the same array from Q6."
   ]
  },
  {
   "cell_type": "code",
   "execution_count": 102,
   "id": "6e12e2d7",
   "metadata": {},
   "outputs": [
    {
     "name": "stdout",
     "output_type": "stream",
     "text": [
      "8\n"
     ]
    }
   ],
   "source": [
    "''' \n",
    "    # First index : 1\n",
    "    [\n",
    "        # Second index\n",
    "        [\n",
    "            # Third Index\n",
    "            [\n",
    "                #Fourth Index\n",
    "                [ 1,  2,  3]\n",
    "            ],\n",
    "            [\n",
    "                #Fourth Index\n",
    "                [ 4,  5,  6]\n",
    "            ]\n",
    "        ],\n",
    "\n",
    "        # Second index: 0\n",
    "        [\n",
    "            # Third Index: 0\n",
    "            [\n",
    "                #Fourth Index: 1\n",
    "                [ 7,  8,  9]\n",
    "            ],\n",
    "            [\n",
    "                [10, 11, 12]\n",
    "            ]\n",
    "        ]\n",
    "    ]\n",
    "        '''\n",
    "\n",
    "# to print number 8 we can refer to the comment above to traverse the array using slicing or indexing\n",
    "print(arr4dInt[1][0][0][1])"
   ]
  },
  {
   "cell_type": "markdown",
   "id": "e2e71895",
   "metadata": {},
   "source": [
    "# Q9: Print number 5 and number 6 using array slicing\n",
    "Note: use the same array from Q6."
   ]
  },
  {
   "cell_type": "code",
   "execution_count": 103,
   "id": "c3218bcb",
   "metadata": {},
   "outputs": [
    {
     "name": "stdout",
     "output_type": "stream",
     "text": [
      "[5 6]\n"
     ]
    }
   ],
   "source": [
    "''' \n",
    "    # First index : 0\n",
    "    [\n",
    "        # Second index: 1\n",
    "        [\n",
    "            # Third Index: 0\n",
    "            [\n",
    "                #Fourth Index\n",
    "                [ 1,  2,  3]\n",
    "            ],\n",
    "            [\n",
    "                #Fourth Index: [1:3]\n",
    "                [ 4,  5,  6]\n",
    "            ]\n",
    "        ],\n",
    "\n",
    "        # Second index\n",
    "        [\n",
    "            # Third Index\n",
    "            [\n",
    "                #Fourth Index\n",
    "                [ 7,  8,  9]\n",
    "            ],\n",
    "            [\n",
    "                [10, 11, 12]\n",
    "            ]\n",
    "        ]\n",
    "    ]\n",
    "        '''\n",
    "\n",
    "# to print number 5 and 6 we can refer to the comment above to traverse the array using slicing or indexing\n",
    "print(arr4dInt[0][1][0][1:3])"
   ]
  },
  {
   "cell_type": "markdown",
   "id": "e5d63cd3",
   "metadata": {},
   "source": [
    "# Q10: Search for number 8 using where()\n",
    "Note: use the same array from Q6.\n",
    "\n",
    "Note: where() is only used with small data.\n",
    "\n",
    "*the output represents the path of the index that leads to number 8*"
   ]
  },
  {
   "cell_type": "code",
   "execution_count": 117,
   "id": "ddaf0146",
   "metadata": {},
   "outputs": [
    {
     "name": "stdout",
     "output_type": "stream",
     "text": [
      "the index is:[1, 0, 0, 1]\n",
      "output is: [8]\n"
     ]
    }
   ],
   "source": [
    "# here we will use np.where() and pass \"arr4dInt == 8\", this will return the index where 8 is\n",
    "index = np.where(arr4dInt == 8)\n",
    "print(f\"the index is:{[int(i) for i in index]} \\noutput is: {arr4dInt[index]}\")"
   ]
  },
  {
   "cell_type": "markdown",
   "id": "c89f41ad",
   "metadata": {},
   "source": [
    "# Q11: Reshape the array as the following\n",
    "\n",
    "    array([[[ 1, 2],\n",
    "            [ 3,  4],\n",
    "            [ 5,  6]],\n",
    "\n",
    "           [[ 7,  8],\n",
    "            [ 9, 10],\n",
    "            [11, 12]]])\n",
    "            \n",
    " Note: use the same array from Q6."
   ]
  },
  {
   "cell_type": "code",
   "execution_count": 125,
   "id": "d9b632bd",
   "metadata": {},
   "outputs": [
    {
     "name": "stdout",
     "output_type": "stream",
     "text": [
      "Target shape: (2, 3, 2)\n",
      "old array shape: (2, 2, 1, 3) \n",
      "new array shape: (2, 3, 2)\n",
      " new array: \n",
      "[[[ 1  2]\n",
      "  [ 3  4]\n",
      "  [ 5  6]]\n",
      "\n",
      " [[ 7  8]\n",
      "  [ 9 10]\n",
      "  [11 12]]]\n"
     ]
    }
   ],
   "source": [
    "# to solve this issue we count the shape or use .shape for this array\n",
    "temp = np.array([\n",
    "    [[ 1, 2], [ 3,  4], [ 5,  6]],\n",
    "    [[ 7,  8],[ 9, 10],[11, 12]]\n",
    "    ])\n",
    "\n",
    "print(f\"Target shape: {temp.shape}\")\n",
    "arr4dInt3d = arr4dInt.reshape((2,3,2))\n",
    "print(f\"old array shape: {arr4dInt.shape} \\nnew array shape: {arr4dInt3d.shape}\\n new array: \\n{arr4dInt3d}\")"
   ]
  },
  {
   "cell_type": "markdown",
   "id": "539c16b1",
   "metadata": {},
   "source": [
    "# Q12: Join the given arrays below \n",
    "    arr1 = np.array([['A', 'B'], ['E', 'F']])\n",
    "    arr2 = np.array([['C', 'D'], ['G', 'H']])\n",
    "## Q12.1: Join the arrays without specifying the axis "
   ]
  },
  {
   "cell_type": "code",
   "execution_count": 193,
   "id": "d6acdeaf",
   "metadata": {},
   "outputs": [
    {
     "name": "stdout",
     "output_type": "stream",
     "text": [
      "[['A' 'B']\n",
      " ['E' 'F']\n",
      " ['C' 'D']\n",
      " ['G' 'H']]\n"
     ]
    }
   ],
   "source": [
    "arr1 = np.array([['A', 'B'], ['E', 'F']])\n",
    "arr2 = np.array([['C', 'D'], ['G', 'H']])\n",
    "\n",
    "joined_array = np.concatenate((arr1,arr2))\n",
    "print(joined_array)"
   ]
  },
  {
   "cell_type": "markdown",
   "id": "1a37dd47",
   "metadata": {},
   "source": [
    "# Q12.2: Join the arrays along rows with axis = 1 "
   ]
  },
  {
   "cell_type": "code",
   "execution_count": 194,
   "id": "b849658c",
   "metadata": {},
   "outputs": [
    {
     "name": "stdout",
     "output_type": "stream",
     "text": [
      "[[['A' 'B']\n",
      "  ['C' 'D']]\n",
      "\n",
      " [['E' 'F']\n",
      "  ['G' 'H']]]\n"
     ]
    }
   ],
   "source": [
    "joined_array_1 = np.stack((arr1,arr2), axis=1)\n",
    "print(joined_array_1)"
   ]
  },
  {
   "cell_type": "markdown",
   "id": "7296eecf",
   "metadata": {},
   "source": [
    "# Q13: Split the array into two arrays with axis = 1, each array should contain four arrays. \n",
    "Note: use the same array from Q12.1"
   ]
  },
  {
   "cell_type": "code",
   "execution_count": 243,
   "id": "7f7f5e49",
   "metadata": {},
   "outputs": [
    {
     "name": "stdout",
     "output_type": "stream",
     "text": [
      "Array 1: \n",
      "[[['A']\n",
      "  ['E']]\n",
      "\n",
      " [['B']\n",
      "  ['F']]]\n",
      " shape: (2, 2, 1)\n",
      "\n",
      "Array 2: \n",
      "[[['C']\n",
      "  ['G']]\n",
      "\n",
      " [['D']\n",
      "  ['H']]]\n",
      " shape: (2, 2, 1)\n"
     ]
    }
   ],
   "source": [
    "# Step 1: Split the array into 2 arrays along axis 0\n",
    "split_arrays = np.split(joined_array, 2, axis=0)\n",
    "\n",
    "\n",
    "# Step 2: Split the arrays inside each array to have 4 arrays inside each\n",
    "for i in range(len(split_arrays)):\n",
    "    split_arrays[i] = np.split(split_arrays[i], 2, axis=1)\n",
    "\n",
    "# cast it into np.array\n",
    "split_arrays =  np.array(split_arrays)\n",
    "\n",
    "print(f\"Array 1: \\n{split_arrays[0]}\\n shape: {split_arrays[0].shape}\\n\")\n",
    "print(f\"Array 2: \\n{split_arrays[1]}\\n shape: {split_arrays[0].shape}\")"
   ]
  }
 ],
 "metadata": {
  "kernelspec": {
   "display_name": "Python 3 (ipykernel)",
   "language": "python",
   "name": "python3"
  },
  "language_info": {
   "codemirror_mode": {
    "name": "ipython",
    "version": 3
   },
   "file_extension": ".py",
   "mimetype": "text/x-python",
   "name": "python",
   "nbconvert_exporter": "python",
   "pygments_lexer": "ipython3",
   "version": "3.11.1"
  }
 },
 "nbformat": 4,
 "nbformat_minor": 5
}
